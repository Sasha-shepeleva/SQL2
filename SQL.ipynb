{
 "cells": [
  {
   "cell_type": "markdown",
   "metadata": {},
   "source": [
    "***Задача:*** проанализировать базу данных\n",
    "\n",
    "***Исходные данные:*** информация о книгах, издательствах, авторах, а также пользовательские обзоры книг\n",
    "\n",
    "***Цель:*** Сделать анализ базы данных, который помжет сформулировать ценностное предложение для нового продукта"
   ]
  },
  {
   "cell_type": "code",
   "execution_count": 1,
   "metadata": {},
   "outputs": [],
   "source": [
    "#!/usr/bin/python\n",
    "# -*- coding: utf-8 -*-"
   ]
  },
  {
   "cell_type": "code",
   "execution_count": 2,
   "metadata": {},
   "outputs": [],
   "source": [
    "# импортируем библиотеки\n",
    "import pandas as pd\n",
    "from sqlalchemy import create_engine\n",
    "# устанавливаем параметры\n",
    "db_config = {'user': 'praktikum_student', # имя пользователя\n",
    "'pwd': 'Sdf4$2;d-d30pp', # пароль\n",
    "'host': 'rc1b-wcoijxj3yxfsf3fs.mdb.yandexcloud.net',\n",
    "'port': 6432, # порт подключения\n",
    "'db': 'data-analyst-final-project-db'} # название базы данных\n",
    "connection_string = 'postgresql://{}:{}@{}:{}/{}'.format(db_config['user'],\n",
    " db_config['pwd'],\n",
    " db_config['host'],\n",
    " db_config['port'],\n",
    " db_config['db'])\n",
    "# сохраняем коннектор\n",
    "engine = create_engine(connection_string, connect_args={'sslmode':'require'}) "
   ]
  },
  {
   "cell_type": "markdown",
   "metadata": {},
   "source": [
    "***Таблица books***"
   ]
  },
  {
   "cell_type": "code",
   "execution_count": 3,
   "metadata": {},
   "outputs": [
    {
     "data": {
      "text/html": [
       "<div>\n",
       "<style scoped>\n",
       "    .dataframe tbody tr th:only-of-type {\n",
       "        vertical-align: middle;\n",
       "    }\n",
       "\n",
       "    .dataframe tbody tr th {\n",
       "        vertical-align: top;\n",
       "    }\n",
       "\n",
       "    .dataframe thead th {\n",
       "        text-align: right;\n",
       "    }\n",
       "</style>\n",
       "<table border=\"1\" class=\"dataframe\">\n",
       "  <thead>\n",
       "    <tr style=\"text-align: right;\">\n",
       "      <th></th>\n",
       "      <th>book_id</th>\n",
       "      <th>author_id</th>\n",
       "      <th>title</th>\n",
       "      <th>num_pages</th>\n",
       "      <th>publication_date</th>\n",
       "      <th>publisher_id</th>\n",
       "    </tr>\n",
       "  </thead>\n",
       "  <tbody>\n",
       "    <tr>\n",
       "      <th>0</th>\n",
       "      <td>1</td>\n",
       "      <td>546</td>\n",
       "      <td>'Salem's Lot</td>\n",
       "      <td>594</td>\n",
       "      <td>2005-11-01</td>\n",
       "      <td>93</td>\n",
       "    </tr>\n",
       "    <tr>\n",
       "      <th>1</th>\n",
       "      <td>2</td>\n",
       "      <td>465</td>\n",
       "      <td>1 000 Places to See Before You Die</td>\n",
       "      <td>992</td>\n",
       "      <td>2003-05-22</td>\n",
       "      <td>336</td>\n",
       "    </tr>\n",
       "    <tr>\n",
       "      <th>2</th>\n",
       "      <td>3</td>\n",
       "      <td>407</td>\n",
       "      <td>13 Little Blue Envelopes (Little Blue Envelope...</td>\n",
       "      <td>322</td>\n",
       "      <td>2010-12-21</td>\n",
       "      <td>135</td>\n",
       "    </tr>\n",
       "    <tr>\n",
       "      <th>3</th>\n",
       "      <td>4</td>\n",
       "      <td>82</td>\n",
       "      <td>1491: New Revelations of the Americas Before C...</td>\n",
       "      <td>541</td>\n",
       "      <td>2006-10-10</td>\n",
       "      <td>309</td>\n",
       "    </tr>\n",
       "    <tr>\n",
       "      <th>4</th>\n",
       "      <td>5</td>\n",
       "      <td>125</td>\n",
       "      <td>1776</td>\n",
       "      <td>386</td>\n",
       "      <td>2006-07-04</td>\n",
       "      <td>268</td>\n",
       "    </tr>\n",
       "  </tbody>\n",
       "</table>\n",
       "</div>"
      ],
      "text/plain": [
       "   book_id  author_id                                              title  \\\n",
       "0        1        546                                       'Salem's Lot   \n",
       "1        2        465                 1 000 Places to See Before You Die   \n",
       "2        3        407  13 Little Blue Envelopes (Little Blue Envelope...   \n",
       "3        4         82  1491: New Revelations of the Americas Before C...   \n",
       "4        5        125                                               1776   \n",
       "\n",
       "   num_pages publication_date  publisher_id  \n",
       "0        594       2005-11-01            93  \n",
       "1        992       2003-05-22           336  \n",
       "2        322       2010-12-21           135  \n",
       "3        541       2006-10-10           309  \n",
       "4        386       2006-07-04           268  "
      ]
     },
     "execution_count": 3,
     "metadata": {},
     "output_type": "execute_result"
    }
   ],
   "source": [
    "query = ''' SELECT *\n",
    "            FROM books\n",
    "            LIMIT 5\n",
    "        '''\n",
    "pd.io.sql.read_sql(query, con = engine) "
   ]
  },
  {
   "cell_type": "markdown",
   "metadata": {},
   "source": [
    "***Таблица authors***"
   ]
  },
  {
   "cell_type": "code",
   "execution_count": 4,
   "metadata": {},
   "outputs": [
    {
     "data": {
      "text/html": [
       "<div>\n",
       "<style scoped>\n",
       "    .dataframe tbody tr th:only-of-type {\n",
       "        vertical-align: middle;\n",
       "    }\n",
       "\n",
       "    .dataframe tbody tr th {\n",
       "        vertical-align: top;\n",
       "    }\n",
       "\n",
       "    .dataframe thead th {\n",
       "        text-align: right;\n",
       "    }\n",
       "</style>\n",
       "<table border=\"1\" class=\"dataframe\">\n",
       "  <thead>\n",
       "    <tr style=\"text-align: right;\">\n",
       "      <th></th>\n",
       "      <th>author_id</th>\n",
       "      <th>author</th>\n",
       "    </tr>\n",
       "  </thead>\n",
       "  <tbody>\n",
       "    <tr>\n",
       "      <th>0</th>\n",
       "      <td>1</td>\n",
       "      <td>A.S. Byatt</td>\n",
       "    </tr>\n",
       "    <tr>\n",
       "      <th>1</th>\n",
       "      <td>2</td>\n",
       "      <td>Aesop/Laura Harris/Laura Gibbs</td>\n",
       "    </tr>\n",
       "    <tr>\n",
       "      <th>2</th>\n",
       "      <td>3</td>\n",
       "      <td>Agatha Christie</td>\n",
       "    </tr>\n",
       "    <tr>\n",
       "      <th>3</th>\n",
       "      <td>4</td>\n",
       "      <td>Alan Brennert</td>\n",
       "    </tr>\n",
       "    <tr>\n",
       "      <th>4</th>\n",
       "      <td>5</td>\n",
       "      <td>Alan Moore/David   Lloyd</td>\n",
       "    </tr>\n",
       "  </tbody>\n",
       "</table>\n",
       "</div>"
      ],
      "text/plain": [
       "   author_id                          author\n",
       "0          1                      A.S. Byatt\n",
       "1          2  Aesop/Laura Harris/Laura Gibbs\n",
       "2          3                 Agatha Christie\n",
       "3          4                   Alan Brennert\n",
       "4          5        Alan Moore/David   Lloyd"
      ]
     },
     "execution_count": 4,
     "metadata": {},
     "output_type": "execute_result"
    }
   ],
   "source": [
    "query = ''' SELECT *\n",
    "            FROM authors\n",
    "            LIMIT 5\n",
    "        '''\n",
    "pd.io.sql.read_sql(query, con = engine) "
   ]
  },
  {
   "cell_type": "markdown",
   "metadata": {},
   "source": [
    "***Таблица publishers***"
   ]
  },
  {
   "cell_type": "code",
   "execution_count": 5,
   "metadata": {},
   "outputs": [
    {
     "data": {
      "text/html": [
       "<div>\n",
       "<style scoped>\n",
       "    .dataframe tbody tr th:only-of-type {\n",
       "        vertical-align: middle;\n",
       "    }\n",
       "\n",
       "    .dataframe tbody tr th {\n",
       "        vertical-align: top;\n",
       "    }\n",
       "\n",
       "    .dataframe thead th {\n",
       "        text-align: right;\n",
       "    }\n",
       "</style>\n",
       "<table border=\"1\" class=\"dataframe\">\n",
       "  <thead>\n",
       "    <tr style=\"text-align: right;\">\n",
       "      <th></th>\n",
       "      <th>publisher_id</th>\n",
       "      <th>publisher</th>\n",
       "    </tr>\n",
       "  </thead>\n",
       "  <tbody>\n",
       "    <tr>\n",
       "      <th>0</th>\n",
       "      <td>1</td>\n",
       "      <td>Ace</td>\n",
       "    </tr>\n",
       "    <tr>\n",
       "      <th>1</th>\n",
       "      <td>2</td>\n",
       "      <td>Ace Book</td>\n",
       "    </tr>\n",
       "    <tr>\n",
       "      <th>2</th>\n",
       "      <td>3</td>\n",
       "      <td>Ace Books</td>\n",
       "    </tr>\n",
       "    <tr>\n",
       "      <th>3</th>\n",
       "      <td>4</td>\n",
       "      <td>Ace Hardcover</td>\n",
       "    </tr>\n",
       "    <tr>\n",
       "      <th>4</th>\n",
       "      <td>5</td>\n",
       "      <td>Addison Wesley Publishing Company</td>\n",
       "    </tr>\n",
       "  </tbody>\n",
       "</table>\n",
       "</div>"
      ],
      "text/plain": [
       "   publisher_id                          publisher\n",
       "0             1                                Ace\n",
       "1             2                           Ace Book\n",
       "2             3                          Ace Books\n",
       "3             4                      Ace Hardcover\n",
       "4             5  Addison Wesley Publishing Company"
      ]
     },
     "execution_count": 5,
     "metadata": {},
     "output_type": "execute_result"
    }
   ],
   "source": [
    "query = ''' SELECT *\n",
    "            FROM publishers\n",
    "            LIMIT 5\n",
    "        '''\n",
    "pd.io.sql.read_sql(query, con = engine) "
   ]
  },
  {
   "cell_type": "markdown",
   "metadata": {},
   "source": [
    "***Таблица ratings***"
   ]
  },
  {
   "cell_type": "code",
   "execution_count": 6,
   "metadata": {},
   "outputs": [
    {
     "data": {
      "text/html": [
       "<div>\n",
       "<style scoped>\n",
       "    .dataframe tbody tr th:only-of-type {\n",
       "        vertical-align: middle;\n",
       "    }\n",
       "\n",
       "    .dataframe tbody tr th {\n",
       "        vertical-align: top;\n",
       "    }\n",
       "\n",
       "    .dataframe thead th {\n",
       "        text-align: right;\n",
       "    }\n",
       "</style>\n",
       "<table border=\"1\" class=\"dataframe\">\n",
       "  <thead>\n",
       "    <tr style=\"text-align: right;\">\n",
       "      <th></th>\n",
       "      <th>rating_id</th>\n",
       "      <th>book_id</th>\n",
       "      <th>username</th>\n",
       "      <th>rating</th>\n",
       "    </tr>\n",
       "  </thead>\n",
       "  <tbody>\n",
       "    <tr>\n",
       "      <th>0</th>\n",
       "      <td>1</td>\n",
       "      <td>1</td>\n",
       "      <td>ryanfranco</td>\n",
       "      <td>4</td>\n",
       "    </tr>\n",
       "    <tr>\n",
       "      <th>1</th>\n",
       "      <td>2</td>\n",
       "      <td>1</td>\n",
       "      <td>grantpatricia</td>\n",
       "      <td>2</td>\n",
       "    </tr>\n",
       "    <tr>\n",
       "      <th>2</th>\n",
       "      <td>3</td>\n",
       "      <td>1</td>\n",
       "      <td>brandtandrea</td>\n",
       "      <td>5</td>\n",
       "    </tr>\n",
       "    <tr>\n",
       "      <th>3</th>\n",
       "      <td>4</td>\n",
       "      <td>2</td>\n",
       "      <td>lorichen</td>\n",
       "      <td>3</td>\n",
       "    </tr>\n",
       "    <tr>\n",
       "      <th>4</th>\n",
       "      <td>5</td>\n",
       "      <td>2</td>\n",
       "      <td>mariokeller</td>\n",
       "      <td>2</td>\n",
       "    </tr>\n",
       "  </tbody>\n",
       "</table>\n",
       "</div>"
      ],
      "text/plain": [
       "   rating_id  book_id       username  rating\n",
       "0          1        1     ryanfranco       4\n",
       "1          2        1  grantpatricia       2\n",
       "2          3        1   brandtandrea       5\n",
       "3          4        2       lorichen       3\n",
       "4          5        2    mariokeller       2"
      ]
     },
     "execution_count": 6,
     "metadata": {},
     "output_type": "execute_result"
    }
   ],
   "source": [
    "query = ''' SELECT *\n",
    "            FROM ratings\n",
    "            LIMIT 5\n",
    "        '''\n",
    "pd.io.sql.read_sql(query, con = engine) "
   ]
  },
  {
   "cell_type": "markdown",
   "metadata": {},
   "source": [
    "***Таблица reviews***"
   ]
  },
  {
   "cell_type": "code",
   "execution_count": 7,
   "metadata": {
    "scrolled": true
   },
   "outputs": [
    {
     "data": {
      "text/html": [
       "<div>\n",
       "<style scoped>\n",
       "    .dataframe tbody tr th:only-of-type {\n",
       "        vertical-align: middle;\n",
       "    }\n",
       "\n",
       "    .dataframe tbody tr th {\n",
       "        vertical-align: top;\n",
       "    }\n",
       "\n",
       "    .dataframe thead th {\n",
       "        text-align: right;\n",
       "    }\n",
       "</style>\n",
       "<table border=\"1\" class=\"dataframe\">\n",
       "  <thead>\n",
       "    <tr style=\"text-align: right;\">\n",
       "      <th></th>\n",
       "      <th>review_id</th>\n",
       "      <th>book_id</th>\n",
       "      <th>username</th>\n",
       "      <th>text</th>\n",
       "    </tr>\n",
       "  </thead>\n",
       "  <tbody>\n",
       "    <tr>\n",
       "      <th>0</th>\n",
       "      <td>1</td>\n",
       "      <td>1</td>\n",
       "      <td>brandtandrea</td>\n",
       "      <td>Mention society tell send professor analysis. ...</td>\n",
       "    </tr>\n",
       "    <tr>\n",
       "      <th>1</th>\n",
       "      <td>2</td>\n",
       "      <td>1</td>\n",
       "      <td>ryanfranco</td>\n",
       "      <td>Foot glass pretty audience hit themselves. Amo...</td>\n",
       "    </tr>\n",
       "    <tr>\n",
       "      <th>2</th>\n",
       "      <td>3</td>\n",
       "      <td>2</td>\n",
       "      <td>lorichen</td>\n",
       "      <td>Listen treat keep worry. Miss husband tax but ...</td>\n",
       "    </tr>\n",
       "    <tr>\n",
       "      <th>3</th>\n",
       "      <td>4</td>\n",
       "      <td>3</td>\n",
       "      <td>johnsonamanda</td>\n",
       "      <td>Finally month interesting blue could nature cu...</td>\n",
       "    </tr>\n",
       "    <tr>\n",
       "      <th>4</th>\n",
       "      <td>5</td>\n",
       "      <td>3</td>\n",
       "      <td>scotttamara</td>\n",
       "      <td>Nation purpose heavy give wait song will. List...</td>\n",
       "    </tr>\n",
       "  </tbody>\n",
       "</table>\n",
       "</div>"
      ],
      "text/plain": [
       "   review_id  book_id       username  \\\n",
       "0          1        1   brandtandrea   \n",
       "1          2        1     ryanfranco   \n",
       "2          3        2       lorichen   \n",
       "3          4        3  johnsonamanda   \n",
       "4          5        3    scotttamara   \n",
       "\n",
       "                                                text  \n",
       "0  Mention society tell send professor analysis. ...  \n",
       "1  Foot glass pretty audience hit themselves. Amo...  \n",
       "2  Listen treat keep worry. Miss husband tax but ...  \n",
       "3  Finally month interesting blue could nature cu...  \n",
       "4  Nation purpose heavy give wait song will. List...  "
      ]
     },
     "execution_count": 7,
     "metadata": {},
     "output_type": "execute_result"
    }
   ],
   "source": [
    "query = ''' SELECT *\n",
    "            FROM reviews\n",
    "            LIMIT 5\n",
    "        '''\n",
    "pd.io.sql.read_sql(query, con = engine) "
   ]
  },
  {
   "cell_type": "markdown",
   "metadata": {},
   "source": [
    "***1. Посчитайте, сколько книг вышло после 1 января 2000 года;***\n"
   ]
  },
  {
   "cell_type": "code",
   "execution_count": 8,
   "metadata": {},
   "outputs": [
    {
     "data": {
      "text/html": [
       "<div>\n",
       "<style scoped>\n",
       "    .dataframe tbody tr th:only-of-type {\n",
       "        vertical-align: middle;\n",
       "    }\n",
       "\n",
       "    .dataframe tbody tr th {\n",
       "        vertical-align: top;\n",
       "    }\n",
       "\n",
       "    .dataframe thead th {\n",
       "        text-align: right;\n",
       "    }\n",
       "</style>\n",
       "<table border=\"1\" class=\"dataframe\">\n",
       "  <thead>\n",
       "    <tr style=\"text-align: right;\">\n",
       "      <th></th>\n",
       "      <th>count</th>\n",
       "    </tr>\n",
       "  </thead>\n",
       "  <tbody>\n",
       "    <tr>\n",
       "      <th>0</th>\n",
       "      <td>819</td>\n",
       "    </tr>\n",
       "  </tbody>\n",
       "</table>\n",
       "</div>"
      ],
      "text/plain": [
       "   count\n",
       "0    819"
      ]
     },
     "execution_count": 8,
     "metadata": {},
     "output_type": "execute_result"
    }
   ],
   "source": [
    "query = ''' SELECT COUNT(book_id)\n",
    "            FROM BOOKS\n",
    "            WHERE publication_date > '2000-01-01'\n",
    "        '''\n",
    "pd.io.sql.read_sql(query, con = engine) "
   ]
  },
  {
   "cell_type": "markdown",
   "metadata": {},
   "source": [
    "После 1 января 2000 года вышло 819 книг"
   ]
  },
  {
   "cell_type": "markdown",
   "metadata": {},
   "source": [
    "***2. Для каждой книги посчитайте количество обзоров и среднюю оценку;***\n"
   ]
  },
  {
   "cell_type": "code",
   "execution_count": 15,
   "metadata": {},
   "outputs": [
    {
     "data": {
      "text/html": [
       "<div>\n",
       "<style scoped>\n",
       "    .dataframe tbody tr th:only-of-type {\n",
       "        vertical-align: middle;\n",
       "    }\n",
       "\n",
       "    .dataframe tbody tr th {\n",
       "        vertical-align: top;\n",
       "    }\n",
       "\n",
       "    .dataframe thead th {\n",
       "        text-align: right;\n",
       "    }\n",
       "</style>\n",
       "<table border=\"1\" class=\"dataframe\">\n",
       "  <thead>\n",
       "    <tr style=\"text-align: right;\">\n",
       "      <th></th>\n",
       "      <th>book_id</th>\n",
       "      <th>title</th>\n",
       "      <th>cnt_review</th>\n",
       "      <th>avg_rating</th>\n",
       "    </tr>\n",
       "  </thead>\n",
       "  <tbody>\n",
       "    <tr>\n",
       "      <th>0</th>\n",
       "      <td>83</td>\n",
       "      <td>Anne Rice's The Vampire Lestat: A Graphic Novel</td>\n",
       "      <td>0</td>\n",
       "      <td>3.67</td>\n",
       "    </tr>\n",
       "    <tr>\n",
       "      <th>1</th>\n",
       "      <td>672</td>\n",
       "      <td>The Cat in the Hat and Other Dr. Seuss Favorites</td>\n",
       "      <td>0</td>\n",
       "      <td>5.00</td>\n",
       "    </tr>\n",
       "    <tr>\n",
       "      <th>2</th>\n",
       "      <td>221</td>\n",
       "      <td>Essential Tales and Poems</td>\n",
       "      <td>0</td>\n",
       "      <td>4.00</td>\n",
       "    </tr>\n",
       "    <tr>\n",
       "      <th>3</th>\n",
       "      <td>808</td>\n",
       "      <td>The Natural Way to Draw</td>\n",
       "      <td>0</td>\n",
       "      <td>3.00</td>\n",
       "    </tr>\n",
       "    <tr>\n",
       "      <th>4</th>\n",
       "      <td>191</td>\n",
       "      <td>Disney's Beauty and the Beast (A Little Golden...</td>\n",
       "      <td>0</td>\n",
       "      <td>4.00</td>\n",
       "    </tr>\n",
       "    <tr>\n",
       "      <th>...</th>\n",
       "      <td>...</td>\n",
       "      <td>...</td>\n",
       "      <td>...</td>\n",
       "      <td>...</td>\n",
       "    </tr>\n",
       "    <tr>\n",
       "      <th>995</th>\n",
       "      <td>733</td>\n",
       "      <td>The Giver (The Giver  #1)</td>\n",
       "      <td>6</td>\n",
       "      <td>3.75</td>\n",
       "    </tr>\n",
       "    <tr>\n",
       "      <th>996</th>\n",
       "      <td>854</td>\n",
       "      <td>The Road</td>\n",
       "      <td>6</td>\n",
       "      <td>3.77</td>\n",
       "    </tr>\n",
       "    <tr>\n",
       "      <th>997</th>\n",
       "      <td>695</td>\n",
       "      <td>The Curious Incident of the Dog in the Night-Time</td>\n",
       "      <td>6</td>\n",
       "      <td>4.08</td>\n",
       "    </tr>\n",
       "    <tr>\n",
       "      <th>998</th>\n",
       "      <td>696</td>\n",
       "      <td>The Da Vinci Code (Robert Langdon  #2)</td>\n",
       "      <td>6</td>\n",
       "      <td>3.83</td>\n",
       "    </tr>\n",
       "    <tr>\n",
       "      <th>999</th>\n",
       "      <td>948</td>\n",
       "      <td>Twilight (Twilight  #1)</td>\n",
       "      <td>7</td>\n",
       "      <td>3.66</td>\n",
       "    </tr>\n",
       "  </tbody>\n",
       "</table>\n",
       "<p>1000 rows × 4 columns</p>\n",
       "</div>"
      ],
      "text/plain": [
       "     book_id                                              title  cnt_review  \\\n",
       "0         83    Anne Rice's The Vampire Lestat: A Graphic Novel           0   \n",
       "1        672   The Cat in the Hat and Other Dr. Seuss Favorites           0   \n",
       "2        221                          Essential Tales and Poems           0   \n",
       "3        808                            The Natural Way to Draw           0   \n",
       "4        191  Disney's Beauty and the Beast (A Little Golden...           0   \n",
       "..       ...                                                ...         ...   \n",
       "995      733                          The Giver (The Giver  #1)           6   \n",
       "996      854                                           The Road           6   \n",
       "997      695  The Curious Incident of the Dog in the Night-Time           6   \n",
       "998      696             The Da Vinci Code (Robert Langdon  #2)           6   \n",
       "999      948                            Twilight (Twilight  #1)           7   \n",
       "\n",
       "     avg_rating  \n",
       "0          3.67  \n",
       "1          5.00  \n",
       "2          4.00  \n",
       "3          3.00  \n",
       "4          4.00  \n",
       "..          ...  \n",
       "995        3.75  \n",
       "996        3.77  \n",
       "997        4.08  \n",
       "998        3.83  \n",
       "999        3.66  \n",
       "\n",
       "[1000 rows x 4 columns]"
      ]
     },
     "execution_count": 15,
     "metadata": {},
     "output_type": "execute_result"
    }
   ],
   "source": [
    "query = ''' SELECT b.book_id,\n",
    "            b.title,\n",
    "            COUNT(DISTINCT rev.review_id) AS cnt_review,\n",
    "            ROUND(AVG(r.rating), 2) AS avg_rating\n",
    "            FROM books AS b\n",
    "            LEFT JOIN reviews AS rev ON b.book_id=rev.book_id\n",
    "            LEFT JOIN ratings AS r ON b.book_id = r.book_id\n",
    "            \n",
    "            GROUP BY b.book_id, b.title\n",
    "            ORDER BY cnt_review\n",
    "        '''\n",
    "pd.io.sql.read_sql(query, con = engine) "
   ]
  },
  {
   "cell_type": "markdown",
   "metadata": {},
   "source": [
    "Всего 1000 книг диапазон среднй оценки начинается от 3.66 до 4.00"
   ]
  },
  {
   "cell_type": "markdown",
   "metadata": {},
   "source": [
    "***3. Определите издательство, которое выпустило наибольшее число книг толще 50 страниц — так вы исключите из анализа брошюры;***"
   ]
  },
  {
   "cell_type": "code",
   "execution_count": 10,
   "metadata": {},
   "outputs": [
    {
     "data": {
      "text/html": [
       "<div>\n",
       "<style scoped>\n",
       "    .dataframe tbody tr th:only-of-type {\n",
       "        vertical-align: middle;\n",
       "    }\n",
       "\n",
       "    .dataframe tbody tr th {\n",
       "        vertical-align: top;\n",
       "    }\n",
       "\n",
       "    .dataframe thead th {\n",
       "        text-align: right;\n",
       "    }\n",
       "</style>\n",
       "<table border=\"1\" class=\"dataframe\">\n",
       "  <thead>\n",
       "    <tr style=\"text-align: right;\">\n",
       "      <th></th>\n",
       "      <th>publisher</th>\n",
       "      <th>publisher_id</th>\n",
       "    </tr>\n",
       "  </thead>\n",
       "  <tbody>\n",
       "    <tr>\n",
       "      <th>0</th>\n",
       "      <td>Penguin Books</td>\n",
       "      <td>212</td>\n",
       "    </tr>\n",
       "  </tbody>\n",
       "</table>\n",
       "</div>"
      ],
      "text/plain": [
       "       publisher  publisher_id\n",
       "0  Penguin Books           212"
      ]
     },
     "execution_count": 10,
     "metadata": {},
     "output_type": "execute_result"
    }
   ],
   "source": [
    "query = ''' SELECT publisher,\n",
    "                   publisher_id\n",
    "            FROM publishers \n",
    "            WHERE publisher_id IN (SELECT publisher_id\n",
    "                       FROM books\n",
    "                       WHERE num_pages > 50\n",
    "                       GROUP BY publisher, publisher_id\n",
    "                       ORDER BY COUNT(book_id) DESC\n",
    "                       LIMIT 1)  \n",
    "        '''\n",
    "pd.io.sql.read_sql(query, con = engine) "
   ]
  },
  {
   "cell_type": "markdown",
   "metadata": {},
   "source": [
    "Наибольшее число книг выпустило издательсвто Penguin Book"
   ]
  },
  {
   "cell_type": "markdown",
   "metadata": {},
   "source": [
    "***4. Определите автора с самой высокой средней оценкой книг — учитывайте только книги с 50 и более оценками;***"
   ]
  },
  {
   "cell_type": "code",
   "execution_count": 11,
   "metadata": {},
   "outputs": [
    {
     "data": {
      "text/html": [
       "<div>\n",
       "<style scoped>\n",
       "    .dataframe tbody tr th:only-of-type {\n",
       "        vertical-align: middle;\n",
       "    }\n",
       "\n",
       "    .dataframe tbody tr th {\n",
       "        vertical-align: top;\n",
       "    }\n",
       "\n",
       "    .dataframe thead th {\n",
       "        text-align: right;\n",
       "    }\n",
       "</style>\n",
       "<table border=\"1\" class=\"dataframe\">\n",
       "  <thead>\n",
       "    <tr style=\"text-align: right;\">\n",
       "      <th></th>\n",
       "      <th>author</th>\n",
       "      <th>avg_rating</th>\n",
       "    </tr>\n",
       "  </thead>\n",
       "  <tbody>\n",
       "    <tr>\n",
       "      <th>0</th>\n",
       "      <td>J.K. Rowling/Mary GrandPré</td>\n",
       "      <td>4.287097</td>\n",
       "    </tr>\n",
       "    <tr>\n",
       "      <th>1</th>\n",
       "      <td>Markus Zusak/Cao Xuân Việt Khương</td>\n",
       "      <td>4.264151</td>\n",
       "    </tr>\n",
       "    <tr>\n",
       "      <th>2</th>\n",
       "      <td>J.R.R. Tolkien</td>\n",
       "      <td>4.246914</td>\n",
       "    </tr>\n",
       "    <tr>\n",
       "      <th>3</th>\n",
       "      <td>Louisa May Alcott</td>\n",
       "      <td>4.192308</td>\n",
       "    </tr>\n",
       "    <tr>\n",
       "      <th>4</th>\n",
       "      <td>Rick Riordan</td>\n",
       "      <td>4.080645</td>\n",
       "    </tr>\n",
       "    <tr>\n",
       "      <th>5</th>\n",
       "      <td>William Golding</td>\n",
       "      <td>3.901408</td>\n",
       "    </tr>\n",
       "    <tr>\n",
       "      <th>6</th>\n",
       "      <td>J.D. Salinger</td>\n",
       "      <td>3.825581</td>\n",
       "    </tr>\n",
       "    <tr>\n",
       "      <th>7</th>\n",
       "      <td>Paulo Coelho/Alan R. Clarke/Özdemir İnce</td>\n",
       "      <td>3.789474</td>\n",
       "    </tr>\n",
       "    <tr>\n",
       "      <th>8</th>\n",
       "      <td>William Shakespeare/Paul Werstine/Barbara A. M...</td>\n",
       "      <td>3.787879</td>\n",
       "    </tr>\n",
       "    <tr>\n",
       "      <th>9</th>\n",
       "      <td>Lois Lowry</td>\n",
       "      <td>3.750000</td>\n",
       "    </tr>\n",
       "    <tr>\n",
       "      <th>10</th>\n",
       "      <td>Dan Brown</td>\n",
       "      <td>3.741259</td>\n",
       "    </tr>\n",
       "    <tr>\n",
       "      <th>11</th>\n",
       "      <td>George Orwell/Boris Grabnar/Peter Škerl</td>\n",
       "      <td>3.729730</td>\n",
       "    </tr>\n",
       "    <tr>\n",
       "      <th>12</th>\n",
       "      <td>Stephenie Meyer</td>\n",
       "      <td>3.662500</td>\n",
       "    </tr>\n",
       "    <tr>\n",
       "      <th>13</th>\n",
       "      <td>John Steinbeck</td>\n",
       "      <td>3.622951</td>\n",
       "    </tr>\n",
       "  </tbody>\n",
       "</table>\n",
       "</div>"
      ],
      "text/plain": [
       "                                               author  avg_rating\n",
       "0                          J.K. Rowling/Mary GrandPré    4.287097\n",
       "1                   Markus Zusak/Cao Xuân Việt Khương    4.264151\n",
       "2                                      J.R.R. Tolkien    4.246914\n",
       "3                                   Louisa May Alcott    4.192308\n",
       "4                                        Rick Riordan    4.080645\n",
       "5                                     William Golding    3.901408\n",
       "6                                       J.D. Salinger    3.825581\n",
       "7            Paulo Coelho/Alan R. Clarke/Özdemir İnce    3.789474\n",
       "8   William Shakespeare/Paul Werstine/Barbara A. M...    3.787879\n",
       "9                                          Lois Lowry    3.750000\n",
       "10                                          Dan Brown    3.741259\n",
       "11            George Orwell/Boris Grabnar/Peter Škerl    3.729730\n",
       "12                                    Stephenie Meyer    3.662500\n",
       "13                                     John Steinbeck    3.622951"
      ]
     },
     "execution_count": 11,
     "metadata": {},
     "output_type": "execute_result"
    }
   ],
   "source": [
    "query = ''' WITH \n",
    "            i AS (SELECT book_id\n",
    "                  FROM ratings\n",
    "                  GROUP BY book_id\n",
    "                  HAVING COUNT(rating_id) > 50)\n",
    "            \n",
    "            SELECT a.author,\n",
    "                   AVG(r.rating) AS avg_rating\n",
    "                   \n",
    "            FROM books AS b\n",
    "            JOIN i\n",
    "            ON b.book_id=i.book_id\n",
    "            \n",
    "            JOIN author AS a\n",
    "            ON b.author_id=a.author_id\n",
    "            \n",
    "            JOIN ratings AS r\n",
    "            ON i.book_id = r.book_id\n",
    "            GROUP BY a.author\n",
    "            ORDER BY AVG(r.rating) DESC\n",
    "             \n",
    "        '''\n",
    "pd.io.sql.read_sql(query, con = engine) "
   ]
  },
  {
   "cell_type": "markdown",
   "metadata": {},
   "source": [
    "J.K. Rowling/Mary GrandPré автор с самой высокой средней оценкой - 4.287097"
   ]
  },
  {
   "cell_type": "markdown",
   "metadata": {},
   "source": [
    "***5. Посчитайте среднее количество обзоров от пользователей, которые поставили больше 50 оценок.***"
   ]
  },
  {
   "cell_type": "code",
   "execution_count": 12,
   "metadata": {},
   "outputs": [
    {
     "data": {
      "text/html": [
       "<div>\n",
       "<style scoped>\n",
       "    .dataframe tbody tr th:only-of-type {\n",
       "        vertical-align: middle;\n",
       "    }\n",
       "\n",
       "    .dataframe tbody tr th {\n",
       "        vertical-align: top;\n",
       "    }\n",
       "\n",
       "    .dataframe thead th {\n",
       "        text-align: right;\n",
       "    }\n",
       "</style>\n",
       "<table border=\"1\" class=\"dataframe\">\n",
       "  <thead>\n",
       "    <tr style=\"text-align: right;\">\n",
       "      <th></th>\n",
       "      <th>avg_text</th>\n",
       "    </tr>\n",
       "  </thead>\n",
       "  <tbody>\n",
       "    <tr>\n",
       "      <th>0</th>\n",
       "      <td>24</td>\n",
       "    </tr>\n",
       "  </tbody>\n",
       "</table>\n",
       "</div>"
      ],
      "text/plain": [
       "   avg_text\n",
       "0        24"
      ]
     },
     "execution_count": 12,
     "metadata": {},
     "output_type": "execute_result"
    }
   ],
   "source": [
    "query = ''' SELECT COUNT(DISTINCT rev.text)/COUNT(DISTINCT rev.username) AS avg_text\n",
    "                   \n",
    "            FROM ratings AS r\n",
    "            INNER JOIN reviews AS rev\n",
    "            ON rev.username = r.username\n",
    "            WHERE r.username IN (SELECT username\n",
    "                       FROM ratings\n",
    "                       \n",
    "                       GROUP BY username\n",
    "                       HAVING COUNT(rating_id) > 50)  \n",
    "        '''\n",
    "pd.io.sql.read_sql(query, con = engine) "
   ]
  },
  {
   "cell_type": "markdown",
   "metadata": {},
   "source": [
    "Среднее количество обзоров пользователей, которые поставили больше 50 оценок -  24"
   ]
  },
  {
   "cell_type": "markdown",
   "metadata": {},
   "source": [
    "***Вывод:***\n",
    "\n",
    "В ходе анализа базы данных было выявлено:\n",
    "\n",
    "- После 1 января 2000 года вышло 819 книг\n",
    "\n",
    "- Для каждой книги было посчитано количество обзоров и средняя оценка: количество обзоров - минимум 0, максимум 7. Диапазон средних оценок варьируется от 3.66 до 4.0\n",
    "\n",
    "- Наибольшее число книг выпустило издательсвто Penguin Book\n",
    "\n",
    "- J.K. Rowling/Mary GrandPré автор с самой высокой средней оценкой - 4.287097\n",
    "\n",
    "- Среднее количество обзоров пользователей, которые поставили больше 50 оценок - 24"
   ]
  }
 ],
 "metadata": {
  "ExecuteTimeLog": [
   {
    "duration": 5377,
    "start_time": "2023-01-14T17:36:30.578Z"
   },
   {
    "duration": 3,
    "start_time": "2023-01-14T17:39:16.018Z"
   },
   {
    "duration": 5,
    "start_time": "2023-01-14T17:39:17.223Z"
   },
   {
    "duration": 330,
    "start_time": "2023-01-14T17:41:21.767Z"
   },
   {
    "duration": 78,
    "start_time": "2023-01-14T17:41:51.893Z"
   },
   {
    "duration": 78,
    "start_time": "2023-01-14T17:42:16.204Z"
   },
   {
    "duration": 78,
    "start_time": "2023-01-14T17:42:41.899Z"
   },
   {
    "duration": 80,
    "start_time": "2023-01-14T17:43:10.880Z"
   },
   {
    "duration": 77,
    "start_time": "2023-01-14T17:48:31.142Z"
   },
   {
    "duration": 240,
    "start_time": "2023-01-14T18:05:05.748Z"
   },
   {
    "duration": 140,
    "start_time": "2023-01-14T18:05:23.843Z"
   },
   {
    "duration": 1998,
    "start_time": "2023-01-14T18:05:40.825Z"
   },
   {
    "duration": 2124,
    "start_time": "2023-01-14T18:06:09.729Z"
   },
   {
    "duration": 2031,
    "start_time": "2023-01-14T18:06:21.357Z"
   },
   {
    "duration": 2017,
    "start_time": "2023-01-14T18:07:24.869Z"
   },
   {
    "duration": 3,
    "start_time": "2023-01-14T20:30:13.846Z"
   },
   {
    "duration": 8291,
    "start_time": "2023-01-14T20:30:14.595Z"
   },
   {
    "duration": 49,
    "start_time": "2023-01-14T20:30:22.889Z"
   },
   {
    "duration": 11,
    "start_time": "2023-01-14T20:30:22.940Z"
   },
   {
    "duration": 11,
    "start_time": "2023-01-14T20:30:22.954Z"
   },
   {
    "duration": 22,
    "start_time": "2023-01-14T20:30:22.966Z"
   },
   {
    "duration": 17,
    "start_time": "2023-01-14T20:30:22.989Z"
   },
   {
    "duration": 18,
    "start_time": "2023-01-14T20:30:23.007Z"
   },
   {
    "duration": 1965,
    "start_time": "2023-01-14T20:30:23.026Z"
   },
   {
    "duration": 177,
    "start_time": "2023-01-14T20:30:28.280Z"
   },
   {
    "duration": 92,
    "start_time": "2023-01-14T20:30:51.353Z"
   },
   {
    "duration": 87,
    "start_time": "2023-01-14T20:31:32.643Z"
   },
   {
    "duration": 92,
    "start_time": "2023-01-14T20:38:05.913Z"
   },
   {
    "duration": 97,
    "start_time": "2023-01-14T20:38:36.153Z"
   },
   {
    "duration": 95,
    "start_time": "2023-01-14T20:38:57.928Z"
   },
   {
    "duration": 92,
    "start_time": "2023-01-14T20:39:27.303Z"
   },
   {
    "duration": 63,
    "start_time": "2023-01-14T20:39:45.313Z"
   },
   {
    "duration": 17,
    "start_time": "2023-01-14T20:40:47.465Z"
   },
   {
    "duration": 97,
    "start_time": "2023-01-14T20:41:25.839Z"
   },
   {
    "duration": 120,
    "start_time": "2023-01-14T20:42:28.375Z"
   },
   {
    "duration": 117,
    "start_time": "2023-01-14T20:42:40.141Z"
   },
   {
    "duration": 147,
    "start_time": "2023-01-14T20:42:48.700Z"
   },
   {
    "duration": 88,
    "start_time": "2023-01-14T20:56:04.376Z"
   },
   {
    "duration": 114,
    "start_time": "2023-01-14T20:56:24.747Z"
   },
   {
    "duration": 95,
    "start_time": "2023-01-14T20:56:44.177Z"
   },
   {
    "duration": 98,
    "start_time": "2023-01-14T20:57:41.272Z"
   },
   {
    "duration": 95,
    "start_time": "2023-01-14T20:58:03.748Z"
   },
   {
    "duration": 94,
    "start_time": "2023-01-14T20:58:17.255Z"
   },
   {
    "duration": 89,
    "start_time": "2023-01-14T20:58:28.553Z"
   },
   {
    "duration": 97,
    "start_time": "2023-01-14T20:59:06.146Z"
   },
   {
    "duration": 90,
    "start_time": "2023-01-14T20:59:14.346Z"
   },
   {
    "duration": 92,
    "start_time": "2023-01-14T21:07:52.814Z"
   },
   {
    "duration": 92,
    "start_time": "2023-01-14T21:08:20.259Z"
   },
   {
    "duration": 109,
    "start_time": "2023-01-14T21:08:47.351Z"
   },
   {
    "duration": 114,
    "start_time": "2023-01-14T21:09:12.570Z"
   },
   {
    "duration": 4,
    "start_time": "2023-01-15T06:01:33.838Z"
   },
   {
    "duration": 5635,
    "start_time": "2023-01-15T06:01:34.658Z"
   },
   {
    "duration": 300,
    "start_time": "2023-01-15T06:01:40.295Z"
   },
   {
    "duration": 78,
    "start_time": "2023-01-15T06:01:40.596Z"
   },
   {
    "duration": 78,
    "start_time": "2023-01-15T06:01:40.676Z"
   },
   {
    "duration": 81,
    "start_time": "2023-01-15T06:01:40.756Z"
   },
   {
    "duration": 78,
    "start_time": "2023-01-15T06:01:40.838Z"
   },
   {
    "duration": 77,
    "start_time": "2023-01-15T06:01:40.918Z"
   },
   {
    "duration": 2003,
    "start_time": "2023-01-15T06:01:54.339Z"
   },
   {
    "duration": 224,
    "start_time": "2023-01-15T06:09:40.929Z"
   },
   {
    "duration": 200,
    "start_time": "2023-01-15T06:10:03.089Z"
   },
   {
    "duration": 87,
    "start_time": "2023-01-15T06:10:35.210Z"
   },
   {
    "duration": 90,
    "start_time": "2023-01-15T06:10:51.769Z"
   },
   {
    "duration": 516,
    "start_time": "2023-01-15T06:11:45.570Z"
   },
   {
    "duration": 85,
    "start_time": "2023-01-15T06:12:11.518Z"
   },
   {
    "duration": 85,
    "start_time": "2023-01-15T06:12:51.709Z"
   },
   {
    "duration": 3,
    "start_time": "2023-01-15T06:43:29.759Z"
   },
   {
    "duration": 5,
    "start_time": "2023-01-15T06:43:30.449Z"
   },
   {
    "duration": 265,
    "start_time": "2023-01-15T06:43:30.799Z"
   },
   {
    "duration": 79,
    "start_time": "2023-01-15T06:43:31.089Z"
   },
   {
    "duration": 76,
    "start_time": "2023-01-15T06:43:31.369Z"
   },
   {
    "duration": 75,
    "start_time": "2023-01-15T06:43:31.749Z"
   },
   {
    "duration": 79,
    "start_time": "2023-01-15T06:43:32.760Z"
   },
   {
    "duration": 73,
    "start_time": "2023-01-15T06:43:34.499Z"
   },
   {
    "duration": 1952,
    "start_time": "2023-01-15T06:43:35.019Z"
   },
   {
    "duration": 183,
    "start_time": "2023-01-15T06:43:38.360Z"
   },
   {
    "duration": 143,
    "start_time": "2023-01-15T06:43:47.930Z"
   },
   {
    "duration": 81,
    "start_time": "2023-01-15T06:44:09.238Z"
   },
   {
    "duration": 462,
    "start_time": "2023-01-15T06:48:54.289Z"
   },
   {
    "duration": 125,
    "start_time": "2023-01-15T06:50:36.669Z"
   },
   {
    "duration": 122,
    "start_time": "2023-01-15T06:52:09.640Z"
   },
   {
    "duration": 137,
    "start_time": "2023-01-15T06:56:39.872Z"
   },
   {
    "duration": 2,
    "start_time": "2023-01-15T07:12:20.432Z"
   },
   {
    "duration": 5,
    "start_time": "2023-01-15T07:12:20.602Z"
   },
   {
    "duration": 289,
    "start_time": "2023-01-15T07:12:20.782Z"
   },
   {
    "duration": 77,
    "start_time": "2023-01-15T07:12:21.092Z"
   },
   {
    "duration": 78,
    "start_time": "2023-01-15T07:12:21.653Z"
   },
   {
    "duration": 78,
    "start_time": "2023-01-15T07:12:22.212Z"
   },
   {
    "duration": 78,
    "start_time": "2023-01-15T07:12:23.072Z"
   },
   {
    "duration": 75,
    "start_time": "2023-01-15T07:12:25.487Z"
   },
   {
    "duration": 1998,
    "start_time": "2023-01-15T07:12:26.902Z"
   },
   {
    "duration": 180,
    "start_time": "2023-01-15T07:12:28.902Z"
   },
   {
    "duration": 85,
    "start_time": "2023-01-15T07:12:33.092Z"
   },
   {
    "duration": 85,
    "start_time": "2023-01-15T07:12:57.322Z"
   },
   {
    "duration": 81,
    "start_time": "2023-01-15T07:13:12.572Z"
   },
   {
    "duration": 161,
    "start_time": "2023-01-15T07:15:53.837Z"
   },
   {
    "duration": 146,
    "start_time": "2023-01-15T07:16:15.407Z"
   },
   {
    "duration": 143,
    "start_time": "2023-01-15T07:16:32.198Z"
   },
   {
    "duration": 132,
    "start_time": "2023-01-15T07:16:50.973Z"
   },
   {
    "duration": 3,
    "start_time": "2023-01-15T09:09:39.524Z"
   },
   {
    "duration": 5527,
    "start_time": "2023-01-15T09:09:41.221Z"
   },
   {
    "duration": 271,
    "start_time": "2023-01-15T09:09:46.750Z"
   },
   {
    "duration": 77,
    "start_time": "2023-01-15T09:09:47.023Z"
   },
   {
    "duration": 76,
    "start_time": "2023-01-15T09:09:47.102Z"
   },
   {
    "duration": 77,
    "start_time": "2023-01-15T09:09:47.179Z"
   },
   {
    "duration": 77,
    "start_time": "2023-01-15T09:09:47.258Z"
   },
   {
    "duration": 75,
    "start_time": "2023-01-15T09:09:47.337Z"
   },
   {
    "duration": 2009,
    "start_time": "2023-01-15T09:09:47.414Z"
   },
   {
    "duration": 178,
    "start_time": "2023-01-15T09:09:49.425Z"
   },
   {
    "duration": 190,
    "start_time": "2023-01-15T09:09:49.605Z"
   },
   {
    "duration": 3,
    "start_time": "2023-01-15T09:23:51.438Z"
   },
   {
    "duration": 80,
    "start_time": "2023-01-15T09:24:05.267Z"
   },
   {
    "duration": 78,
    "start_time": "2023-01-15T09:24:49.597Z"
   },
   {
    "duration": 80,
    "start_time": "2023-01-15T09:25:27.587Z"
   },
   {
    "duration": 81,
    "start_time": "2023-01-15T09:26:01.877Z"
   },
   {
    "duration": 78,
    "start_time": "2023-01-15T09:26:17.048Z"
   },
   {
    "duration": 79,
    "start_time": "2023-01-15T09:26:25.617Z"
   },
   {
    "duration": 152,
    "start_time": "2023-01-15T09:27:09.788Z"
   },
   {
    "duration": 135,
    "start_time": "2023-01-15T09:33:24.386Z"
   },
   {
    "duration": 88,
    "start_time": "2023-01-15T09:33:37.018Z"
   },
   {
    "duration": 82,
    "start_time": "2023-01-15T09:33:45.236Z"
   },
   {
    "duration": 127,
    "start_time": "2023-01-15T09:39:15.316Z"
   },
   {
    "duration": 4,
    "start_time": "2023-01-15T09:40:30.569Z"
   },
   {
    "duration": 5156,
    "start_time": "2023-01-15T09:40:31.325Z"
   },
   {
    "duration": 266,
    "start_time": "2023-01-15T09:40:36.483Z"
   },
   {
    "duration": 76,
    "start_time": "2023-01-15T09:40:36.750Z"
   },
   {
    "duration": 80,
    "start_time": "2023-01-15T09:40:37.896Z"
   },
   {
    "duration": 77,
    "start_time": "2023-01-15T09:40:38.796Z"
   },
   {
    "duration": 81,
    "start_time": "2023-01-15T09:40:39.935Z"
   },
   {
    "duration": 76,
    "start_time": "2023-01-15T09:40:40.966Z"
   },
   {
    "duration": 3,
    "start_time": "2023-01-15T09:41:57.176Z"
   },
   {
    "duration": 5104,
    "start_time": "2023-01-15T09:41:57.887Z"
   },
   {
    "duration": 271,
    "start_time": "2023-01-15T09:42:02.993Z"
   },
   {
    "duration": 77,
    "start_time": "2023-01-15T09:42:03.265Z"
   },
   {
    "duration": 76,
    "start_time": "2023-01-15T09:42:03.344Z"
   },
   {
    "duration": 78,
    "start_time": "2023-01-15T09:42:03.421Z"
   },
   {
    "duration": 78,
    "start_time": "2023-01-15T09:42:03.501Z"
   },
   {
    "duration": 76,
    "start_time": "2023-01-15T09:42:03.581Z"
   },
   {
    "duration": 209,
    "start_time": "2023-01-15T09:42:20.597Z"
   },
   {
    "duration": 2500,
    "start_time": "2023-01-15T09:42:32.637Z"
   },
   {
    "duration": 80,
    "start_time": "2023-01-15T09:44:48.056Z"
   },
   {
    "duration": 87,
    "start_time": "2023-01-15T09:44:55.158Z"
   },
   {
    "duration": 140,
    "start_time": "2023-01-15T09:45:39.386Z"
   },
   {
    "duration": 137,
    "start_time": "2023-01-15T09:46:14.856Z"
   },
   {
    "duration": 128,
    "start_time": "2023-01-15T09:46:22.026Z"
   },
   {
    "duration": 131,
    "start_time": "2023-01-15T09:46:55.566Z"
   },
   {
    "duration": 86,
    "start_time": "2023-01-15T09:47:33.317Z"
   },
   {
    "duration": 3,
    "start_time": "2023-01-15T16:50:18.612Z"
   },
   {
    "duration": 8995,
    "start_time": "2023-01-15T16:50:18.617Z"
   },
   {
    "duration": 62,
    "start_time": "2023-01-15T16:50:27.613Z"
   },
   {
    "duration": 11,
    "start_time": "2023-01-15T16:50:27.677Z"
   },
   {
    "duration": 11,
    "start_time": "2023-01-15T16:50:27.689Z"
   },
   {
    "duration": 11,
    "start_time": "2023-01-15T16:50:27.701Z"
   },
   {
    "duration": 12,
    "start_time": "2023-01-15T16:50:27.714Z"
   },
   {
    "duration": 25,
    "start_time": "2023-01-15T16:50:27.727Z"
   },
   {
    "duration": 1998,
    "start_time": "2023-01-15T16:50:27.753Z"
   },
   {
    "duration": 115,
    "start_time": "2023-01-15T16:50:29.753Z"
   },
   {
    "duration": 20,
    "start_time": "2023-01-15T16:50:29.869Z"
   },
   {
    "duration": 19,
    "start_time": "2023-01-15T16:50:29.890Z"
   },
   {
    "duration": 4,
    "start_time": "2023-01-15T17:42:46.413Z"
   },
   {
    "duration": 8274,
    "start_time": "2023-01-15T17:42:47.416Z"
   },
   {
    "duration": 56,
    "start_time": "2023-01-15T17:42:55.692Z"
   },
   {
    "duration": 12,
    "start_time": "2023-01-15T17:42:55.750Z"
   },
   {
    "duration": 33,
    "start_time": "2023-01-15T17:42:55.764Z"
   },
   {
    "duration": 60,
    "start_time": "2023-01-15T17:42:55.799Z"
   },
   {
    "duration": 24,
    "start_time": "2023-01-15T17:42:55.861Z"
   },
   {
    "duration": 58,
    "start_time": "2023-01-15T17:42:55.887Z"
   },
   {
    "duration": 3555,
    "start_time": "2023-01-15T17:43:55.446Z"
   },
   {
    "duration": 3493,
    "start_time": "2023-01-15T17:44:53.235Z"
   },
   {
    "duration": 175,
    "start_time": "2023-01-15T17:46:23.326Z"
   },
   {
    "duration": 88,
    "start_time": "2023-01-15T17:46:46.996Z"
   },
   {
    "duration": 34,
    "start_time": "2023-01-15T17:47:18.577Z"
   },
   {
    "duration": 31,
    "start_time": "2023-01-15T17:47:48.612Z"
   },
   {
    "duration": 34,
    "start_time": "2023-01-15T17:47:57.831Z"
   }
  ],
  "kernelspec": {
   "display_name": "Python 3 (ipykernel)",
   "language": "python",
   "name": "python3"
  },
  "language_info": {
   "codemirror_mode": {
    "name": "ipython",
    "version": 3
   },
   "file_extension": ".py",
   "mimetype": "text/x-python",
   "name": "python",
   "nbconvert_exporter": "python",
   "pygments_lexer": "ipython3",
   "version": "3.9.5"
  },
  "toc": {
   "base_numbering": 1,
   "nav_menu": {},
   "number_sections": true,
   "sideBar": true,
   "skip_h1_title": true,
   "title_cell": "Table of Contents",
   "title_sidebar": "Contents",
   "toc_cell": false,
   "toc_position": {},
   "toc_section_display": true,
   "toc_window_display": false
  }
 },
 "nbformat": 4,
 "nbformat_minor": 2
}
